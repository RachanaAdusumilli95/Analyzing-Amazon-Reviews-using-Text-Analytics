{
  "cells": [
    {
      "cell_type": "markdown",
      "metadata": {
        "id": "view-in-github",
        "colab_type": "text"
      },
      "source": [
        "<a href=\"https://colab.research.google.com/github/RachanaAdusumilli95/Text-Analysis/blob/main/BasicTextMining.ipynb\" target=\"_parent\"><img src=\"https://colab.research.google.com/assets/colab-badge.svg\" alt=\"Open In Colab\"/></a>"
      ]
    },
    {
      "cell_type": "markdown",
      "metadata": {
        "id": "qvTN2lnN3-pP"
      },
      "source": [
        "Word Tokenization\n",
        "============"
      ]
    },
    {
      "cell_type": "code",
      "execution_count": null,
      "metadata": {
        "id": "dvTsjht43-pR",
        "outputId": "16241780-9d18-402d-cc27-ddaa5eda91ba"
      },
      "outputs": [
        {
          "name": "stdout",
          "output_type": "stream",
          "text": [
            "['The', 'quick', 'brown', 'fox', 'jumped', 'over', 'the', 'lazy', 'dog']\n"
          ]
        }
      ],
      "source": [
        "text = \"The quick brown fox jumped over the lazy dog\"\n",
        "tokens = text.split()\n",
        "print(tokens)"
      ]
    },
    {
      "cell_type": "code",
      "execution_count": null,
      "metadata": {
        "id": "n-lPfF3z3-pS",
        "outputId": "04de586b-e92a-4f82-f542-bca463c4e092"
      },
      "outputs": [
        {
          "name": "stdout",
          "output_type": "stream",
          "text": [
            "['The', 'quick', 'brown', 'fox,', 'and', 'an', 'Oxford', 'comma']\n"
          ]
        }
      ],
      "source": [
        "text = \"The quick brown fox, and an Oxford comma\"\n",
        "tokens = text.split()\n",
        "print(tokens)"
      ]
    },
    {
      "cell_type": "code",
      "execution_count": null,
      "metadata": {
        "id": "XhlLL2i43-pT",
        "outputId": "7303f01a-30ec-4107-d2b7-4cd3dcfa0d1f"
      },
      "outputs": [
        {
          "name": "stdout",
          "output_type": "stream",
          "text": [
            "['The', 'quick', 'brown', 'fox', ',', 'and', 'an', 'Oxford', 'comma']\n"
          ]
        }
      ],
      "source": [
        "from nltk.tokenize import word_tokenize\n",
        "text = \"The quick brown fox, and an Oxford comma\"\n",
        "tokens = word_tokenize(text)\n",
        "print(tokens)"
      ]
    },
    {
      "cell_type": "code",
      "execution_count": null,
      "metadata": {
        "id": "u7Yf8tbJ3-pT",
        "outputId": "66056089-a904-4503-cf00-0980816fe409"
      },
      "outputs": [
        {
          "name": "stdout",
          "output_type": "stream",
          "text": [
            "['Tweet', 'about', '#', 'NLProc', '@', 'ABCD', ':', ')']\n"
          ]
        }
      ],
      "source": [
        "from nltk.tokenize import word_tokenize\n",
        "text = \"Tweet about #NLProc @ABCD :)\"\n",
        "tokens = word_tokenize(text)\n",
        "print(tokens)"
      ]
    },
    {
      "cell_type": "code",
      "execution_count": null,
      "metadata": {
        "id": "-t0J9ghO3-pU",
        "outputId": "85c3f8ec-958f-460b-e0ed-ebbf941c4875"
      },
      "outputs": [
        {
          "name": "stdout",
          "output_type": "stream",
          "text": [
            "['Tweet', 'about', '#NLProc', '@ABCD', ':)']\n"
          ]
        }
      ],
      "source": [
        "from nltk.tokenize import TweetTokenizer\n",
        "text = \"Tweet about #NLProc @ABCD :)\"\n",
        "tokenizer = TweetTokenizer()\n",
        "tokens = tokenizer.tokenize(text)\n",
        "print(tokens)"
      ]
    },
    {
      "cell_type": "code",
      "execution_count": null,
      "metadata": {
        "id": "UoAhmXzh3-pU",
        "outputId": "0784f298-0694-493a-f065-f1f132dfd270"
      },
      "outputs": [
        {
          "name": "stdout",
          "output_type": "stream",
          "text": [
            "['Tweet', 'about', '#NLProc', ':)']\n"
          ]
        }
      ],
      "source": [
        "from nltk.tokenize import TweetTokenizer\n",
        "text = \"Tweet about #NLProc @ABCD :)\"\n",
        "tokenizer = TweetTokenizer(strip_handles=True)\n",
        "tokens = tokenizer.tokenize(text)\n",
        "print(tokens)"
      ]
    },
    {
      "cell_type": "code",
      "execution_count": null,
      "metadata": {
        "id": "R2fXj9QW3-pU",
        "outputId": "07c66158-324b-44dc-d84b-fa1655ca0d73"
      },
      "outputs": [
        {
          "name": "stdout",
          "output_type": "stream",
          "text": [
            "['How', 'about', 'currencies', '(', 'like', '£100,000.00', ')', 'and', 'dates', '(', 'like', '19th', 'September', ')']\n"
          ]
        }
      ],
      "source": [
        "from nltk.tokenize import word_tokenize\n",
        "text = \"How about currencies (like £100,000.00) and dates (like 19th September)\"\n",
        "tokens = word_tokenize(text)\n",
        "print(tokens)"
      ]
    },
    {
      "cell_type": "markdown",
      "metadata": {
        "id": "l180WEk03-pV"
      },
      "source": [
        "Stemming\n",
        "====="
      ]
    },
    {
      "cell_type": "code",
      "execution_count": null,
      "metadata": {
        "id": "Uk2wkZ163-pV",
        "outputId": "520cb77d-a5c5-4f75-c3cf-d96d053f1ef8"
      },
      "outputs": [
        {
          "name": "stdout",
          "output_type": "stream",
          "text": [
            "have\n",
            "have\n",
            "had\n",
            "fish\n",
            "fish\n",
            "fisher\n",
            "fish\n",
            "fish\n",
            "european\n",
            "europ\n",
            "polici\n",
            "polic\n",
            "matrix\n",
            "matric\n",
            "autom\n",
            "automat\n",
            "autom\n",
            "automat\n",
            "wa\n",
            "saw\n"
          ]
        }
      ],
      "source": [
        "from nltk.stem import PorterStemmer\n",
        "\n",
        "s = PorterStemmer()\n",
        "print(s.stem('Having'))\n",
        "print(s.stem('Have'))\n",
        "print(s.stem('Had'))\n",
        "\n",
        "print(s.stem('Fishing'))\n",
        "print(s.stem('Fish'))\n",
        "print(s.stem('Fisher'))\n",
        "print(s.stem('Fishes'))\n",
        "print(s.stem('Fished'))\n",
        "\n",
        "print(s.stem('European'))\n",
        "print(s.stem('Europe'))\n",
        "\n",
        "print(s.stem('policy'))\n",
        "print(s.stem('police'))\n",
        "\n",
        "print(s.stem('matrix'))\n",
        "print(s.stem('matrices'))\n",
        "\n",
        "print(s.stem('automation'))\n",
        "print(s.stem('automatic'))\n",
        "print(s.stem('automate'))\n",
        "print(s.stem('automat'))\n",
        "print(s.stem('was'))\n",
        "print(s.stem('saw'))"
      ]
    },
    {
      "cell_type": "markdown",
      "metadata": {
        "id": "VN-pstiC3-pW"
      },
      "source": [
        "Lemmatization\n",
        "=====\n",
        "\n",
        "Lemmatisation is similar to stemming, as it produces a normalised version of the input word.\n",
        "\n",
        "The output is a lemma, i.e. a proper word (different from stemming)\n",
        "\n",
        "The input word is lemmatised according to its Part-of-Speech (POS) tag, i.e. verb, noun, etc."
      ]
    },
    {
      "cell_type": "code",
      "execution_count": null,
      "metadata": {
        "id": "PtLow6rj3-pW",
        "outputId": "9406c6c3-51b9-4064-b48b-5fb298accb1c"
      },
      "outputs": [
        {
          "name": "stdout",
          "output_type": "stream",
          "text": [
            "have\n",
            "have\n",
            "have\n",
            "fish\n",
            "fish\n",
            "fisher\n",
            "fish\n",
            "fish\n",
            "be\n",
            "be\n",
            "be\n"
          ]
        }
      ],
      "source": [
        "# You'll need the \"wordnet\" package from NLTK data\n",
        "# python -m nltk.downloader wordnet\n",
        "from nltk.stem import WordNetLemmatizer\n",
        "\n",
        "s = WordNetLemmatizer()\n",
        "print(s.lemmatize('having', pos='v'))\n",
        "print(s.lemmatize('have', pos='v'))\n",
        "print(s.lemmatize('had', pos='v'))\n",
        "\n",
        "print(s.lemmatize('fishing', pos='v'))\n",
        "print(s.lemmatize('fish', pos='v'))\n",
        "print(s.lemmatize('fisher', pos='n'))\n",
        "print(s.lemmatize('fishes', pos='v'))\n",
        "print(s.lemmatize('fished', pos='v'))\n",
        "\n",
        "print(s.lemmatize('am', pos='v'))\n",
        "print(s.lemmatize('is', pos='v'))\n",
        "print(s.lemmatize('was', pos='v'))"
      ]
    },
    {
      "cell_type": "markdown",
      "metadata": {
        "collapsed": true,
        "id": "atCu1Qir3-pW"
      },
      "source": [
        "# Tokenization, Word Counts, Stop Word removal, and Text Normalization using Italian recipes data"
      ]
    },
    {
      "cell_type": "code",
      "execution_count": null,
      "metadata": {
        "id": "CbW-kIIH3-pX",
        "outputId": "c1a9067f-2a17-4db9-f0b7-256c1ab9c7bd"
      },
      "outputs": [
        {
          "name": "stdout",
          "output_type": "stream",
          "text": [
            "Number of docs: 220\n",
            "Corpus size (char): 161146\n"
          ]
        }
      ],
      "source": [
        "#Data set of Italian recipes from https://www.gutenberg.org/ebooks/24407 (public domain)\n",
        "#The txt format of this has been split into multiple files, one recipe per file.\n",
        "#There are 220 recipes\n",
        "\n",
        "#Load the data\n",
        "#Firstly, we load all the data into the documents dictionary\n",
        "#We also merge the documents into one big string, corpus_all_in_one, for convenience\n",
        "\n",
        "import os\n",
        "data_folder = os.path.join('recipes')\n",
        "all_recipe_files = [os.path.join(data_folder, fname)\n",
        "                    for fname in os.listdir(data_folder)]\n",
        "documents = {}\n",
        "for recipe_fname in all_recipe_files:\n",
        "    bname = os.path.basename(recipe_fname)\n",
        "    recipe_number = os.path.splitext(bname)[0]\n",
        "    with open(recipe_fname, 'r') as f:\n",
        "        documents[recipe_number] = f.read()\n",
        "\n",
        "corpus_all_in_one = ' '.join([doc for doc in documents.values()])\n",
        "\n",
        "print(\"Number of docs: {}\".format(len(documents)))\n",
        "print(\"Corpus size (char): {}\".format(len(corpus_all_in_one)))"
      ]
    },
    {
      "cell_type": "code",
      "execution_count": null,
      "metadata": {
        "id": "MuE0YyKS3-pX",
        "outputId": "1c43aa7b-163a-4fc0-ed0a-0cec59a20733"
      },
      "outputs": [
        {
          "name": "stdout",
          "output_type": "stream",
          "text": [
            "Total number of tokens: 33719\n"
          ]
        }
      ],
      "source": [
        "#Tokenisation is the process of splitting a raw string into a list of tokens\n",
        "from nltk.tokenize import word_tokenize\n",
        "\n",
        "try:  # py3\n",
        "    all_tokens = [t for t in word_tokenize(corpus_all_in_one)]\n",
        "except UnicodeDecodeError:  # py27\n",
        "    all_tokens = [t for t in word_tokenize(corpus_all_in_one.decode('utf-8'))]\n",
        "\n",
        "print(\"Total number of tokens: {}\".format(len(all_tokens)))"
      ]
    },
    {
      "cell_type": "code",
      "execution_count": null,
      "metadata": {
        "id": "P5jMIxa-3-pX",
        "outputId": "02658308-4bb9-4079-cc13-0a04b0006aa3"
      },
      "outputs": [
        {
          "name": "stdout",
          "output_type": "stream",
          "text": [
            "the\t1933\n",
            ",\t1726\n",
            ".\t1568\n",
            "and\t1435\n",
            "a\t1076\n",
            "of\t988\n",
            "in\t811\n",
            "with\t726\n",
            "it\t537\n",
            "to\t452\n",
            "or\t389\n",
            "is\t337\n",
            "(\t295\n",
            ")\t295\n",
            "be\t266\n",
            "them\t248\n",
            "butter\t231\n",
            "on\t220\n",
            "water\t205\n",
            "little\t198\n"
          ]
        }
      ],
      "source": [
        "#Counting Words\n",
        "#We start with a simple word count using collections.Counter\n",
        "\n",
        "#We are interested in finding:\n",
        "#(1) how many times a word occurs across the whole corpus (total number of occurrences)\n",
        "#(2) in how many documents a word occurs\n",
        "\n",
        "from collections import Counter\n",
        "\n",
        "total_term_frequency = Counter(all_tokens)\n",
        "\n",
        "for word, freq in total_term_frequency.most_common(20):\n",
        "    print(\"{}\\t{}\".format(word, freq))"
      ]
    },
    {
      "cell_type": "code",
      "execution_count": null,
      "metadata": {
        "id": "hqUpS4hM3-pY",
        "outputId": "96b2502f-7002-4d64-bc65-da40b5693736"
      },
      "outputs": [
        {
          "name": "stdout",
          "output_type": "stream",
          "text": [
            ".\t220\n",
            "and\t220\n",
            ",\t219\n",
            "(\t218\n",
            ")\t218\n",
            "the\t217\n",
            "in\t215\n",
            "a\t210\n",
            "of\t210\n",
            "with\t203\n",
            "it\t167\n",
            "to\t165\n",
            "or\t165\n",
            "is\t145\n",
            "salt\t142\n",
            "butter\t137\n",
            "on\t136\n",
            "be\t133\n",
            "put\t126\n",
            "water\t125\n"
          ]
        }
      ],
      "source": [
        "document_frequency = Counter()\n",
        "\n",
        "for recipe_number, content in documents.items():\n",
        "    tokens = word_tokenize(content)\n",
        "    unique_tokens = set(tokens)\n",
        "    document_frequency.update(unique_tokens)\n",
        "\n",
        "for word, freq in document_frequency.most_common(20):\n",
        "    print(\"{}\\t{}\".format(word, freq))"
      ]
    },
    {
      "cell_type": "code",
      "execution_count": null,
      "metadata": {
        "id": "Y34I0H0J3-pY",
        "outputId": "1c5aa2c3-4537-4c99-db33-e8a16dc3b9f3"
      },
      "outputs": [
        {
          "name": "stdout",
          "output_type": "stream",
          "text": [
            "['i', 'me', 'my', 'myself', 'we', 'our', 'ours', 'ourselves', 'you', \"you're\", \"you've\", \"you'll\", \"you'd\", 'your', 'yours', 'yourself', 'yourselves', 'he', 'him', 'his', 'himself', 'she', \"she's\", 'her', 'hers', 'herself', 'it', \"it's\", 'its', 'itself', 'they', 'them', 'their', 'theirs', 'themselves', 'what', 'which', 'who', 'whom', 'this', 'that', \"that'll\", 'these', 'those', 'am', 'is', 'are', 'was', 'were', 'be', 'been', 'being', 'have', 'has', 'had', 'having', 'do', 'does', 'did', 'doing', 'a', 'an', 'the', 'and', 'but', 'if', 'or', 'because', 'as', 'until', 'while', 'of', 'at', 'by', 'for', 'with', 'about', 'against', 'between', 'into', 'through', 'during', 'before', 'after', 'above', 'below', 'to', 'from', 'up', 'down', 'in', 'out', 'on', 'off', 'over', 'under', 'again', 'further', 'then', 'once', 'here', 'there', 'when', 'where', 'why', 'how', 'all', 'any', 'both', 'each', 'few', 'more', 'most', 'other', 'some', 'such', 'no', 'nor', 'not', 'only', 'own', 'same', 'so', 'than', 'too', 'very', 's', 't', 'can', 'will', 'just', 'don', \"don't\", 'should', \"should've\", 'now', 'd', 'll', 'm', 'o', 're', 've', 'y', 'ain', 'aren', \"aren't\", 'couldn', \"couldn't\", 'didn', \"didn't\", 'doesn', \"doesn't\", 'hadn', \"hadn't\", 'hasn', \"hasn't\", 'haven', \"haven't\", 'isn', \"isn't\", 'ma', 'mightn', \"mightn't\", 'mustn', \"mustn't\", 'needn', \"needn't\", 'shan', \"shan't\", 'shouldn', \"shouldn't\", 'wasn', \"wasn't\", 'weren', \"weren't\", 'won', \"won't\", 'wouldn', \"wouldn't\"]\n",
            "179\n",
            "!\"#$%&'()*+,-./:;<=>?@[\\]^_`{|}~\n"
          ]
        }
      ],
      "source": [
        "#Stop-words\n",
        "from nltk.corpus import stopwords\n",
        "import string\n",
        "\n",
        "print(stopwords.words('english'))\n",
        "print(len(stopwords.words('english')))\n",
        "print(string.punctuation)"
      ]
    },
    {
      "cell_type": "code",
      "execution_count": null,
      "metadata": {
        "id": "jgSaxpvj3-pY",
        "outputId": "059d2351-0b53-4878-b144-7c15fdd0c653"
      },
      "outputs": [
        {
          "name": "stdout",
          "output_type": "stream",
          "text": [
            "butter\t231\n",
            "water\t205\n",
            "little\t198\n",
            "put\t197\n",
            "one\t186\n",
            "salt\t185\n",
            "fire\t169\n",
            "half\t169\n",
            "two\t157\n",
            "When\t132\n",
            "sauce\t128\n",
            "pepper\t128\n",
            "add\t125\n",
            "cut\t125\n",
            "flour\t116\n",
            "piece\t116\n",
            "The\t111\n",
            "sugar\t100\n",
            "saucepan\t100\n",
            "oil\t99\n"
          ]
        }
      ],
      "source": [
        "stop_list = stopwords.words('english') + list(string.punctuation)\n",
        "tokens_no_stop = [token for token in all_tokens\n",
        "                        if token not in stop_list]\n",
        "total_term_frequency_no_stop = Counter(tokens_no_stop)\n",
        "for word, freq in total_term_frequency_no_stop.most_common(20):\n",
        "    print(\"{}\\t{}\".format(word, freq))"
      ]
    },
    {
      "cell_type": "code",
      "execution_count": null,
      "metadata": {
        "id": "wLhh0Vfe3-pZ"
      },
      "outputs": [],
      "source": [
        "#Notice When and The above (uppercase W and T)\n",
        "#Different variations of the same words are counted as different words (they are, after all, different strings)"
      ]
    },
    {
      "cell_type": "code",
      "execution_count": null,
      "metadata": {
        "id": "xQ_rjrg_3-pZ",
        "outputId": "bffec0ea-a3b3-4f66-b55b-85f6e9fe0162"
      },
      "outputs": [
        {
          "name": "stdout",
          "output_type": "stream",
          "text": [
            "27\n",
            "3\n",
            "1\n",
            "0\n",
            "0\n",
            "1\n"
          ]
        }
      ],
      "source": [
        "print(total_term_frequency_no_stop['olive'])\n",
        "print(total_term_frequency_no_stop['olives'])\n",
        "print(total_term_frequency_no_stop['Olive'])\n",
        "print(total_term_frequency_no_stop['Olives'])\n",
        "print(total_term_frequency_no_stop['OLIVE'])\n",
        "print(total_term_frequency_no_stop['OLIVES'])"
      ]
    },
    {
      "cell_type": "code",
      "execution_count": null,
      "metadata": {
        "id": "m6fqo0bR3-pZ",
        "outputId": "662ce623-51ac-4a4b-a5c0-1c0b35082745"
      },
      "outputs": [
        {
          "name": "stdout",
          "output_type": "stream",
          "text": [
            "put\t286\n",
            "butter\t245\n",
            "salt\t215\n",
            "piec\t211\n",
            "one\t210\n",
            "water\t209\n",
            "cook\t208\n",
            "littl\t198\n",
            "cut\t175\n",
            "half\t170\n",
            "brown\t169\n",
            "fire\t169\n",
            "egg\t163\n",
            "two\t162\n",
            "add\t160\n",
            "boil\t154\n",
            "sauc\t152\n",
            "pepper\t130\n",
            "serv\t128\n",
            "remov\t127\n"
          ]
        }
      ],
      "source": [
        "#Text Normalisation using Stemming\n",
        "from nltk.stem import PorterStemmer\n",
        "stemmer = PorterStemmer()\n",
        "all_tokens_lower = [t.lower() for t in all_tokens]\n",
        "tokens_normalised = [stemmer.stem(t) for t in all_tokens_lower\n",
        "                                     if t not in stop_list]\n",
        "total_term_frequency_normalised = Counter(tokens_normalised)\n",
        "for word, freq in total_term_frequency_normalised.most_common(20):\n",
        "    print(\"{}\\t{}\".format(word, freq))"
      ]
    },
    {
      "cell_type": "code",
      "execution_count": null,
      "metadata": {
        "id": "OF2_M2nR3-pZ",
        "outputId": "db894bbe-00e7-4e8b-cc9b-3b8f313cffe8"
      },
      "outputs": [
        {
          "name": "stdout",
          "output_type": "stream",
          "text": [
            "('in', 'the')\t175\n",
            "('in', 'a')\t172\n",
            "('of', 'the')\t153\n",
            "('with', 'a')\t142\n",
            "('.', 'when')\t131\n",
            "('the', 'fire')\t129\n",
            "('on', 'the')\t128\n",
            "(',', 'and')\t117\n",
            "('with', 'the')\t117\n",
            "('salt', 'and')\t113\n",
            "('it', 'is')\t109\n",
            "('a', 'little')\t107\n",
            "('piece', 'of')\t102\n",
            "('and', 'a')\t102\n",
            "('of', 'butter')\t94\n",
            "('and', 'pepper')\t87\n",
            "('.', 'the')\t85\n",
            "('and', 'the')\t84\n",
            "('when', 'the')\t82\n",
            "('with', 'salt')\t80\n"
          ]
        }
      ],
      "source": [
        "#Getting ngrams\n",
        "from nltk import ngrams\n",
        "\n",
        "phrases = Counter(ngrams(all_tokens_lower, 2))\n",
        "for phrase, freq in phrases.most_common(20):\n",
        "    print(\"{}\\t{}\".format(phrase, freq))"
      ]
    },
    {
      "cell_type": "code",
      "execution_count": null,
      "metadata": {
        "id": "G8Z0wDfL3-pZ",
        "outputId": "105a40a9-fef9-404d-8660-710efe7d8d41"
      },
      "outputs": [
        {
          "name": "stdout",
          "output_type": "stream",
          "text": [
            "('on', 'the', 'fire')\t90\n",
            "('salt', 'and', 'pepper')\t84\n",
            "('piece', 'of', 'butter')\t73\n",
            "('a', 'piece', 'of')\t63\n",
            "('with', 'salt', 'and')\t62\n",
            "('.', 'when', 'the')\t59\n",
            "('a', 'pinch', 'of')\t45\n",
            "('in', 'a', 'saucepan')\t45\n",
            "('season', 'with', 'salt')\t42\n",
            "('the', 'fire', 'with')\t41\n",
            "('when', 'it', 'is')\t39\n",
            "('and', 'pepper', '.')\t37\n",
            "('through', 'a', 'sieve')\t36\n",
            "('complete', 'the', 'cooking')\t34\n",
            "('and', 'a', 'half')\t33\n",
            "('of', 'butter', ',')\t27\n",
            "('a', 'taste', 'of')\t26\n",
            "('it', 'on', 'the')\t26\n",
            "('and', 'when', 'it')\t26\n",
            "(',', 'salt', 'and')\t25\n"
          ]
        }
      ],
      "source": [
        "phrases = Counter(ngrams(all_tokens_lower, 3))\n",
        "for phrase, freq in phrases.most_common(20):\n",
        "    print(\"{}\\t{}\".format(phrase, freq))"
      ]
    },
    {
      "cell_type": "code",
      "execution_count": null,
      "metadata": {
        "id": "Nfjj7kjI3-pa",
        "outputId": "2ffb1726-3539-4dcc-c5b4-90b6c0f88117"
      },
      "outputs": [
        {
          "name": "stdout",
          "output_type": "stream",
          "text": [
            "('salt', 'pepper')\t106\n",
            "('piece', 'butter')\t73\n",
            "('grated', 'cheese')\t55\n",
            "('bread', 'crumbs')\t34\n",
            "('tomato', 'sauce')\t32\n",
            "('put', 'fire')\t32\n",
            "('complete', 'cooking')\t31\n",
            "('thin', 'slices')\t29\n",
            "('brown', 'stock')\t29\n",
            "('season', 'salt')\t29\n",
            "('olive', 'oil')\t26\n",
            "('low', 'fire')\t25\n",
            "('chopped', 'fine')\t25\n",
            "('boiling', 'water')\t22\n",
            "('little', 'pieces')\t22\n",
            "('half', 'ounces')\t21\n",
            "('one', 'two')\t18\n",
            "('half', 'cooked')\t18\n",
            "('two', 'ounces')\t18\n",
            "('lemon', 'peel')\t18\n"
          ]
        }
      ],
      "source": [
        "#n-grams and stop-words\n",
        "#Stop-word removal will affect n-grams\n",
        "phrases = Counter(ngrams(tokens_no_stop, 2))\n",
        "\n",
        "for phrase, freq in phrases.most_common(20):\n",
        "    print(\"{}\\t{}\".format(phrase, freq))"
      ]
    },
    {
      "cell_type": "code",
      "execution_count": null,
      "metadata": {
        "id": "FyEbkyyv3-pa",
        "outputId": "cb62ba40-1642-440e-ff0b-33c209eab563"
      },
      "outputs": [
        {
          "name": "stdout",
          "output_type": "stream",
          "text": [
            "('season', 'salt', 'pepper')\t28\n",
            "('Season', 'salt', 'pepper')\t16\n",
            "('pinch', 'grated', 'cheese')\t11\n",
            "('bread', 'crumbs', 'ground')\t11\n",
            "('cut', 'thin', 'slices')\t11\n",
            "('good', 'olive', 'oil')\t10\n",
            "('saucepan', 'piece', 'butter')\t9\n",
            "('another', 'piece', 'butter')\t9\n",
            "('cut', 'small', 'pieces')\t9\n",
            "('salt', 'pepper', 'When')\t9\n",
            "('half', 'inch', 'thick')\t9\n",
            "('greased', 'butter', 'sprinkled')\t9\n",
            "('small', 'piece', 'butter')\t9\n",
            "('tomato', 'sauce', 'No')\t8\n",
            "('sauce', 'No', '12')\t8\n",
            "('medium', 'sized', 'onion')\t8\n",
            "('ounces', 'Sweet', 'almonds')\t8\n",
            "('three', 'half', 'ounces')\t8\n",
            "('piece', 'butter', 'When')\t7\n",
            "('seasoning', 'salt', 'pepper')\t7\n"
          ]
        }
      ],
      "source": [
        "phrases = Counter(ngrams(tokens_no_stop, 3))\n",
        "\n",
        "for phrase, freq in phrases.most_common(20):\n",
        "    print(\"{}\\t{}\".format(phrase, freq))"
      ]
    },
    {
      "cell_type": "code",
      "execution_count": null,
      "metadata": {
        "id": "GBHF23Ak3-pa",
        "outputId": "4facb0cb-df11-4eb2-f15e-34421f1556ce"
      },
      "outputs": [
        {
          "data": {
            "image/png": "[encoded data removed]",
            "text/plain": [
              "<Figure size 864x576 with 1 Axes>"
            ]
          },
          "metadata": {
            "needs_background": "light"
          },
          "output_type": "display_data"
        }
      ],
      "source": [
        "%matplotlib inline\n",
        "import matplotlib.pyplot as plt\n",
        "from wordcloud import WordCloud\n",
        "\n",
        "cloud = WordCloud(max_words=100)\n",
        "cloud.generate_from_text(' '.join(all_tokens_lower))\n",
        "\n",
        "plt.figure(figsize=(12,8))\n",
        "plt.imshow(cloud)\n",
        "plt.axis('off')\n",
        "plt.show()"
      ]
    }
  ],
  "metadata": {
    "kernelspec": {
      "display_name": "Python 3",
      "language": "python",
      "name": "python3"
    },
    "language_info": {
      "codemirror_mode": {
        "name": "ipython",
        "version": 3
      },
      "file_extension": ".py",
      "mimetype": "text/x-python",
      "name": "python",
      "nbconvert_exporter": "python",
      "pygments_lexer": "ipython3",
      "version": "3.6.10"
    },
    "colab": {
      "provenance": [],
      "include_colab_link": true
    }
  },
  "nbformat": 4,
  "nbformat_minor": 0
}